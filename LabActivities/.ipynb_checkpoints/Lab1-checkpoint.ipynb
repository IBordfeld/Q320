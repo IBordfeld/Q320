{
 "cells": [
  {
   "cell_type": "markdown",
   "metadata": {},
   "source": [
    "# Lab 1: 01/22"
   ]
  },
  {
   "cell_type": "markdown",
   "metadata": {},
   "source": [
    "I will be posting practice notebooks for lab sessions here: https://github.com/edizquierdo/Q320/tree/master/LabActivities"
   ]
  },
  {
   "cell_type": "markdown",
   "metadata": {},
   "source": [
    "## 1. Intro"
   ]
  },
  {
   "cell_type": "markdown",
   "metadata": {},
   "source": [
    "1. Your name\n",
    "2. What made you interested in Cognitive Science?"
   ]
  },
  {
   "cell_type": "markdown",
   "metadata": {},
   "source": [
    "## 2. Walk through the assignment (Q1-9) "
   ]
  },
  {
   "cell_type": "markdown",
   "metadata": {},
   "source": [
    "#### Form and logistics\n",
    "- Name and assignment number on top of the notebook\n",
    "- Include a question number before each solution (#1, #2, etc)\n",
    "- Different questions in different cells"
   ]
  },
  {
   "cell_type": "markdown",
   "metadata": {},
   "source": [
    "#### How to use jupyter notebooks?\n",
    "- make new cells\n",
    "- cell types: code and text (Markdown)\n",
    "- run a cell\n",
    "\n",
    "More information and shortcuts here: https://www.dataquest.io/blog/jupyter-notebook-tutorial/"
   ]
  },
  {
   "cell_type": "markdown",
   "metadata": {},
   "source": [
    "Q1: Use Python as a Calculator. Demonstrate the use of each of the following operators: + (addition), - (substration), * (multiplication), / (division), % (remainder), // (integer division), and ** (power)."
   ]
  },
  {
   "cell_type": "code",
   "execution_count": null,
   "metadata": {},
   "outputs": [],
   "source": [
    "print(1+1)\n",
    "print(2-1)\n",
    "print(3*5)\n",
    "print(4/2)\n",
    "print(5%2)\n",
    "print(5//2)\n",
    "print(5**2)"
   ]
  },
  {
   "cell_type": "markdown",
   "metadata": {},
   "source": [
    "Q2: Create five different variables. Assign different types of values to each. Assign an integer value the first, a string to the second, a Boolean to the third, a floating point value to the fourth, and a list of floating point values to the last one."
   ]
  },
  {
   "cell_type": "code",
   "execution_count": null,
   "metadata": {},
   "outputs": [],
   "source": [
    "owl_species_indiana = 8\n",
    "most_common_owl_indiana = \"barred owl\"\n",
    "owls_in_marinas_flat = False\n",
    "barred_owl_wingspan = 43.3\n",
    "owls_species_indiana_list = [\"barred owl\", \"great horned owl\", \n",
    "                             \"saw-whet owl\", \"long eared owl\", \n",
    "                             \"short eared owl\", \"screech owl\",\n",
    "                             \"barn owl\", \"snowy owl\"]"
   ]
  },
  {
   "cell_type": "markdown",
   "metadata": {},
   "source": [
    "Q3: Use the previously created variable with a string assigned to it and access the first letter of the string (this is called indexing), also the last letter of the string. Do the same for the variable with the list."
   ]
  },
  {
   "cell_type": "code",
   "execution_count": null,
   "metadata": {},
   "outputs": [],
   "source": [
    "print(most_common_owl_indiana[0])\n",
    "print(most_common_owl_indiana[-1])\n",
    "print(owls_species_indiana_list[0])\n",
    "print(owls_species_indiana_list[-1])"
   ]
  },
  {
   "cell_type": "markdown",
   "metadata": {},
   "source": [
    "Q4: Write a few lines of code that can perform a countdown from 10 down to 0 using a while loop. You will be using the print(x) command."
   ]
  },
  {
   "cell_type": "code",
   "execution_count": null,
   "metadata": {},
   "outputs": [],
   "source": [
    "i = 10\n",
    "while i >= 0:\n",
    "    print(i)\n",
    "    i -= 1"
   ]
  },
  {
   "cell_type": "markdown",
   "metadata": {},
   "source": [
    "Q5: Ask the user for an integer and then tell the user whether the integer is positive, negative, or zero. For a more advanced option, tell the user whether the number is even or odd."
   ]
  },
  {
   "cell_type": "code",
   "execution_count": null,
   "metadata": {},
   "outputs": [],
   "source": [
    "user_input = int(input(\"Please enter an integer: \"))\n",
    "\n",
    "if user_input == 0:\n",
    "    print(\"Your number is zero!\")\n",
    "elif user_input > 0:\n",
    "    print(\"Your number is positive!\")\n",
    "else:\n",
    "    print(\"Your number is negative!\")"
   ]
  },
  {
   "cell_type": "markdown",
   "metadata": {},
   "source": [
    "Q6: Create a variable with a list of words. Then iterate through the list using a For loop and print only the words of a certain length (e.g,. words greater than 5 letters). For a more advanced option, iterate through the list of words and tell us which of them is the longest word."
   ]
  },
  {
   "cell_type": "code",
   "execution_count": null,
   "metadata": {},
   "outputs": [],
   "source": [
    "bird_list = [\"robin\", \"wren\", \"nuthatch\", \"hummingbird\", \"bluebird\"]\n",
    "\n",
    "target_length = 5\n",
    "for word in bird_list:\n",
    "    word_length = len(word)\n",
    "    if word_length == target_length:\n",
    "        print(word)\n",
    "\n",
    "longest_word = \"\"\n",
    "for word in bird_list:\n",
    "    length = len(word)\n",
    "    if length > len(longest_word):\n",
    "        longest_word = word\n",
    "print(\"The longest word in the bird list is {}\".format(longest_word))"
   ]
  },
  {
   "cell_type": "markdown",
   "metadata": {},
   "source": [
    "Q7: Use the range() function to re-do the countdown code from exercise 4."
   ]
  },
  {
   "cell_type": "code",
   "execution_count": null,
   "metadata": {},
   "outputs": [],
   "source": [
    "for countdown in range(10, -1, -1):\n",
    "    print(countdown)"
   ]
  },
  {
   "cell_type": "markdown",
   "metadata": {},
   "source": [
    "Q8: Define a function called countdown() that receives a number n and counts down from n to 0 by printing."
   ]
  },
  {
   "cell_type": "code",
   "execution_count": null,
   "metadata": {},
   "outputs": [],
   "source": [
    "def countdown(n):\n",
    "    for i in range(n, -1, -1):\n",
    "        print(i)\n",
    "        \n",
    "countdown(8)"
   ]
  },
  {
   "cell_type": "markdown",
   "metadata": {},
   "source": [
    "Q9: Define a function called findlongest() that receives a list of words and returns the length of the longest word in that list."
   ]
  },
  {
   "cell_type": "code",
   "execution_count": null,
   "metadata": {},
   "outputs": [],
   "source": [
    "def find_longest(word_list):\n",
    "    longest = \"\"\n",
    "    for word in word_list:\n",
    "        if len(word) > len(longest):\n",
    "            longest = word\n",
    "    return longest\n",
    "\n",
    "find_longest(bird_list)"
   ]
  },
  {
   "cell_type": "markdown",
   "metadata": {},
   "source": [
    "## Lab session peer-programming practice"
   ]
  },
  {
   "cell_type": "markdown",
   "metadata": {},
   "source": [
    "(1) Conditionals and Functions. \n",
    "\n",
    "If you are given three sticks, you may or may not be able to arrange them in a triangle. For example, if one of the sticks is 12 inches long and the other two are one inch long, you will not be able to get the short sticks to meet in the middle. \n",
    "\n",
    "For any three lengths, there is a simple test to see if it is possible to form a triangle: If any of the three lengths is greater than the sum of the other two, then you cannot form a triangle. Otherwise, you can. (If the sum of two lengths equals the third, they form what is called a “degenerate” triangle.)\n",
    "\n",
    "Write a function named is_triangle that takes three integers as arguments, and that returns a 0 if you cannot form a triangle and 1 if you can form a triangle from sticks with the given lengths."
   ]
  },
  {
   "cell_type": "markdown",
   "metadata": {},
   "source": [
    "(2) Conditionals, Functions, and Iterations. \n",
    "\n",
    "Write a function named special_numbers() that takes four integers as arguments and that returns those numbers which are divisible by D and multiple of M, between F and T (both included). \n",
    "\n",
    "For example, if D is 7 (D for divisible), M is 5 (M for multiple), and F is 1500 (F for From) and T is 2700 (T for To), then the solution should be: 1505, 1540, 1575, 1610, 1645, 1680, 1715, 1750, 1785, 1820, 1855, 1890, 1925, 1960, 1995, 2030, 2065, 2100, 2135, 2170, 2205, 2240, 2275, 2310, 2345, 2380, 2415, 2450, 2485, 2520, 2555, 2590, 2625, 2660, 2695. "
   ]
  },
  {
   "cell_type": "markdown",
   "metadata": {},
   "source": [
    "(3) Lists, Iteration and Strings. \n",
    "\n",
    "Write a function called is_sorted() that takes a list of words as a parameter and returns True if the list is sorted in ascending alphabetical order and False otherwise."
   ]
  }
 ],
 "metadata": {
  "kernelspec": {
   "display_name": "Python 3",
   "language": "python",
   "name": "python3"
  },
  "language_info": {
   "codemirror_mode": {
    "name": "ipython",
    "version": 3
   },
   "file_extension": ".py",
   "mimetype": "text/x-python",
   "name": "python",
   "nbconvert_exporter": "python",
   "pygments_lexer": "ipython3",
   "version": "3.7.4"
  }
 },
 "nbformat": 4,
 "nbformat_minor": 2
}
